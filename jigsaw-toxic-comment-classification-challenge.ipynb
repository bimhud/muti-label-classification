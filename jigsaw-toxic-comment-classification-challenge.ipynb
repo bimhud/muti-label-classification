{
  "cells": [
    {
      "metadata": {
        "_cell_guid": "7f169939-93d7-4217-9bda-1ddbbbd19ca6",
        "_uuid": "04b4fb7875d109f67f8af07bb5c05d46c1f913e4"
      },
      "cell_type": "markdown",
      "source": "**Keras CNN with FastText Embeddings**"
    },
    {
      "metadata": {
        "_cell_guid": "12f70aec-ceca-44e3-8a21-b9a2f28a6a4e",
        "_uuid": "2bf9f497e1097faa70ec09686d20636fc71c05c3"
      },
      "cell_type": "markdown",
      "source": "CNNs provide a faster alternative to LSTM models at a comparable performance. They are faster to train and use fewer parameters. CNN models are translation invariant and in application to text make sense when there is no strong dependence on recent past vs distant past of the input sequence. CNNs can learn patterns in word embeddings and given the nature of the dataset (e.g. multiple misspellings, out of vocabulary words), it makes sense to use sub-word information. In this notebook, a simple CNN architecture is used for multi-label classification with the help of FastText word embeddings. Thus, it can be a good addition (diverse and accurate) to your ensemble."
    },
    {
      "metadata": {
        "_cell_guid": "29a8d31b-451e-4427-afb3-fd40cd01bc60",
        "_uuid": "887320b9e2d8efaaa27c3f7913debaf53c37ed52",
        "trusted": true
      },
      "cell_type": "code",
      "source": "import numpy as np\nimport pandas as pd\nimport seaborn as sns\nimport matplotlib.pyplot as plt\n\nimport keras\nfrom keras import optimizers\nfrom keras import backend as K\nfrom keras import regularizers\nfrom keras.models import Sequential\nfrom keras.layers import Dense, Activation, Dropout, Flatten\nfrom keras.layers import Embedding, Conv1D, MaxPooling1D, GlobalMaxPooling1D \nfrom keras.utils import plot_model\nfrom keras.preprocessing import sequence\nfrom keras.preprocessing.text import Tokenizer\nfrom keras.callbacks import EarlyStopping\n\nfrom tqdm import tqdm\nfrom nltk.corpus import stopwords\nfrom nltk.tokenize import RegexpTokenizer \nimport os, re, csv, math, codecs\n\nsns.set_style(\"whitegrid\")\nnp.random.seed(0)\n\nDATA_PATH = '../input/'\nEMBEDDING_DIR = '../input/'\n\nMAX_NB_WORDS = 100000\ntokenizer = RegexpTokenizer(r'\\w+')\nstop_words = set(stopwords.words('english'))\nstop_words.update(['.', ',', '\"', \"'\", ':', ';', '(', ')', '[', ']', '{', '}'])\n\nfrom subprocess import check_output\nprint(check_output([\"ls\", \"../input\"]).decode(\"utf8\"))\n",
      "execution_count": 1,
      "outputs": [
        {
          "output_type": "stream",
          "text": "Using TensorFlow backend.\n",
          "name": "stderr"
        },
        {
          "output_type": "stream",
          "text": "fasttext\njigsaw-toxic-comment-classification-challenge\n\n",
          "name": "stdout"
        }
      ]
    },
    {
      "metadata": {
        "_cell_guid": "6d95a418-778d-4683-85f7-33351d82c18d",
        "_uuid": "92b4cf0b1af7f4a423eacc83a1fb43e66400056f"
      },
      "cell_type": "markdown",
      "source": "Let's load the data and the embeddings..."
    },
    {
      "metadata": {
        "_cell_guid": "3f6f79a5-ba5b-486d-b212-3332e6c2b6d4",
        "_uuid": "b56846b453212ccc053461ba730f56dacb433c23",
        "trusted": true
      },
      "cell_type": "code",
      "source": "#load embeddings\nprint('loading word embeddings...')\nembeddings_index = {}\nf = codecs.open('../input/fasttext/wiki.simple.vec', encoding='utf-8')\nfor line in tqdm(f):\n    values = line.rstrip().rsplit(' ')\n    word = values[0]\n    coefs = np.asarray(values[1:], dtype='float32')\n    embeddings_index[word] = coefs\nf.close()\nprint('found %s word vectors' % len(embeddings_index))",
      "execution_count": 2,
      "outputs": [
        {
          "output_type": "stream",
          "text": "756it [00:00, 7557.00it/s]",
          "name": "stderr"
        },
        {
          "output_type": "stream",
          "text": "loading word embeddings...\n",
          "name": "stdout"
        },
        {
          "output_type": "stream",
          "text": "111052it [00:13, 7965.87it/s]",
          "name": "stderr"
        },
        {
          "output_type": "stream",
          "text": "found 111052 word vectors\n",
          "name": "stdout"
        },
        {
          "output_type": "stream",
          "text": "\n",
          "name": "stderr"
        }
      ]
    },
    {
      "metadata": {
        "_cell_guid": "1ba47ff9-ac70-4a6e-9811-461f6819ca89",
        "_uuid": "eee4b60da112577dbdd4b17b3760bc365e483222",
        "trusted": true
      },
      "cell_type": "code",
      "source": "#load data\ntrain_df = pd.read_csv('../input/jigsaw-toxic-comment-classification-challenge' + '/train.csv', sep=',', header=0)\ntest_df = pd.read_csv('../input/jigsaw-toxic-comment-classification-challenge' + '/test.csv', sep=',', header=0)\ntest_df = test_df.fillna('_NA_')\n\nprint(\"num train: \", train_df.shape[0])\nprint(\"num test: \", test_df.shape[0])\n\nlabel_names = [\"toxic\", \"severe_toxic\", \"obscene\", \"threat\", \"insult\", \"identity_hate\"]\ny_train = train_df[label_names].values\n\n#visualize word distribution\ntrain_df['doc_len'] = train_df['comment_text'].apply(lambda words: len(words.split(\" \")))\nmax_seq_len = np.round(train_df['doc_len'].mean() + train_df['doc_len'].std()).astype(int)\nsns.distplot(train_df['doc_len'], hist=True, kde=True, color='b', label='doc len')\nplt.axvline(x=max_seq_len, color='k', linestyle='--', label='max len')\nplt.title('comment length'); plt.legend()\nplt.show()",
      "execution_count": 3,
      "outputs": [
        {
          "output_type": "stream",
          "text": "num train:  159571\nnum test:  153164\n",
          "name": "stdout"
        },
        {
          "output_type": "stream",
          "text": "/opt/conda/lib/python3.6/site-packages/scipy/stats/stats.py:1713: FutureWarning: Using a non-tuple sequence for multidimensional indexing is deprecated; use `arr[tuple(seq)]` instead of `arr[seq]`. In the future this will be interpreted as an array index, `arr[np.array(seq)]`, which will result either in an error or a different result.\n  return np.add.reduce(sorted[indexer] * weights, axis=axis) / sumval\n",
          "name": "stderr"
        },
        {
          "output_type": "display_data",
          "data": {
            "text/plain": "<Figure size 432x288 with 1 Axes>",
            "image/png": "[encoded data removed]"
          },
          "metadata": {}
        }
      ]
    },
    {
      "metadata": {
        "_cell_guid": "dc87384b-710c-4ec4-aec1-48bf8b2439f3",
        "_uuid": "4df404e0692a1d585336e8994b776f5cd1fd0fab"
      },
      "cell_type": "markdown",
      "source": "Let's pre-process the text, tokenize it and pad it to a maximum length (as in the figure above)."
    },
    {
      "metadata": {
        "_cell_guid": "19aeb800-f1c8-4206-8bf8-323256ff5c14",
        "_uuid": "c600a3f2135982bf6f9b46cce3a97b1e2e5b912c",
        "scrolled": true,
        "trusted": true
      },
      "cell_type": "code",
      "source": "raw_docs_train = train_df['comment_text'].tolist()\nraw_docs_test = test_df['comment_text'].tolist() \nnum_classes = len(label_names)\n\nprint(\"pre-processing train data...\")\nprocessed_docs_train = []\nfor doc in tqdm(raw_docs_train):\n    tokens = tokenizer.tokenize(doc)\n    filtered = [word for word in tokens if word not in stop_words]\n    processed_docs_train.append(\" \".join(filtered))\n#end for\n\nprocessed_docs_test = []\nfor doc in tqdm(raw_docs_test):\n    tokens = tokenizer.tokenize(doc)\n    filtered = [word for word in tokens if word not in stop_words]\n    processed_docs_test.append(\" \".join(filtered))\n#end for\n\nprint(\"tokenizing input data...\")\ntokenizer = Tokenizer(num_words=MAX_NB_WORDS, lower=True, char_level=False)\ntokenizer.fit_on_texts(processed_docs_train + processed_docs_test)  #leaky\nword_seq_train = tokenizer.texts_to_sequences(processed_docs_train)\nword_seq_test = tokenizer.texts_to_sequences(processed_docs_test)\nword_index = tokenizer.word_index\nprint(\"dictionary size: \", len(word_index))\n\n#pad sequences\nword_seq_train = sequence.pad_sequences(word_seq_train, maxlen=max_seq_len)\nword_seq_test = sequence.pad_sequences(word_seq_test, maxlen=max_seq_len)",
      "execution_count": 4,
      "outputs": [
        {
          "output_type": "stream",
          "text": "  2%|▏         | 3057/159571 [00:00<00:05, 30568.50it/s]",
          "name": "stderr"
        },
        {
          "output_type": "stream",
          "text": "pre-processing train data...\n",
          "name": "stdout"
        },
        {
          "output_type": "stream",
          "text": "100%|██████████| 159571/159571 [00:04<00:00, 32262.55it/s]\n100%|██████████| 153164/153164 [00:04<00:00, 35359.39it/s]\n",
          "name": "stderr"
        },
        {
          "output_type": "stream",
          "text": "tokenizing input data...\ndictionary size:  348520\n",
          "name": "stdout"
        }
      ]
    },
    {
      "metadata": {
        "_cell_guid": "3382a8db-f082-48c3-82de-898e7a716c5f",
        "_uuid": "5d5b2e211c3b2a320aaa63c39999e913fe471f4e"
      },
      "cell_type": "markdown",
      "source": "Let's define our training and model parameters:"
    },
    {
      "metadata": {
        "_cell_guid": "d524dcca-8299-46d0-adae-f12f7c1a3171",
        "_uuid": "08e7abf92ce07c856f5e7d6f9ce371997495910b",
        "trusted": true
      },
      "cell_type": "code",
      "source": "#training params\nbatch_size = 256 \nnum_epochs = 8 \n\n#model parameters\nnum_filters = 64 \nembed_dim = 300 \nweight_decay = 1e-4",
      "execution_count": 5,
      "outputs": []
    },
    {
      "metadata": {
        "_cell_guid": "3b2c9452-5780-4920-8896-0b9dfa7c562b",
        "_uuid": "e8742cc989f4c71a8c401feef5e54c0e7718865a"
      },
      "cell_type": "markdown",
      "source": "We can now prepare our embedding matrix limiting to a max number of words:"
    },
    {
      "metadata": {
        "_cell_guid": "18708bcb-0ae5-467f-8725-e2dbb50f989e",
        "_uuid": "630959b52ab4e120581fac11915bf432e40b8b5f",
        "trusted": true
      },
      "cell_type": "code",
      "source": "#embedding matrix\nprint('preparing embedding matrix...')\nwords_not_found = []\nnb_words = min(MAX_NB_WORDS, len(word_index))\nembedding_matrix = np.zeros((nb_words, embed_dim))\nfor word, i in word_index.items():\n    if i >= nb_words:\n        continue\n    embedding_vector = embeddings_index.get(word)\n    if (embedding_vector is not None) and len(embedding_vector) > 0:\n        # words not found in embedding index will be all-zeros.\n        embedding_matrix[i] = embedding_vector\n    else:\n        words_not_found.append(word)\nprint('number of null word embeddings: %d' % np.sum(np.sum(embedding_matrix, axis=1) == 0))",
      "execution_count": 6,
      "outputs": [
        {
          "output_type": "stream",
          "text": "preparing embedding matrix...\nnumber of null word embeddings: 47196\n",
          "name": "stdout"
        }
      ]
    },
    {
      "metadata": {
        "_cell_guid": "f1db355a-b0bf-4f58-8565-efb196c5b139",
        "_uuid": "13eccb942d6c0027e6d4f317c9072579c7c747a2"
      },
      "cell_type": "markdown",
      "source": "It's interesting to look at the words not found in the embeddings:"
    },
    {
      "metadata": {
        "_cell_guid": "e6777c80-d2e5-49fb-9d69-75de9f322b6f",
        "_uuid": "fe157163ee51b46f011cd1b5395c36c633c11b18",
        "trusted": true
      },
      "cell_type": "code",
      "source": "print(\"sample words not found: \", np.random.choice(words_not_found, 10))",
      "execution_count": 7,
      "outputs": [
        {
          "output_type": "stream",
          "text": "sample words not found:  ['bunchofgrapes' 'hapy' 'kwilu' 'weant' 'sthenelaos' 'everyon' 'mcsim'\n 'kodachrome' 'latibeaudiere' 'thấp']\n",
          "name": "stdout"
        }
      ]
    },
    {
      "metadata": {
        "_cell_guid": "86182902-7292-46dc-bedb-6aded3526a00",
        "_uuid": "92fa5491dd28f186b9ff4772a4045b4e5d59df8d"
      },
      "cell_type": "markdown",
      "source": "We can finally define the CNN architecture"
    },
    {
      "metadata": {
        "_cell_guid": "1a2f5f71-6777-4ab7-b419-3c867e1ab7d4",
        "_uuid": "4f3484a6fc935b4da6dbe8bc21f6029c99f574bf",
        "trusted": true
      },
      "cell_type": "code",
      "source": "#CNN architecture\nprint(\"training CNN ...\")\nmodel = Sequential()\nmodel.add(Embedding(nb_words, embed_dim,\n          weights=[embedding_matrix], input_length=max_seq_len, trainable=False))\nmodel.add(Conv1D(num_filters, 7, activation='relu', padding='same'))\nmodel.add(MaxPooling1D(2))\nmodel.add(Conv1D(num_filters, 7, activation='relu', padding='same'))\nmodel.add(GlobalMaxPooling1D())\nmodel.add(Dropout(0.5))\nmodel.add(Dense(32, activation='relu', kernel_regularizer=regularizers.l2(weight_decay)))\nmodel.add(Dense(num_classes, activation='sigmoid'))  #multi-label (k-hot encoding)\n\nadam = optimizers.Adam(lr=0.001, beta_1=0.9, beta_2=0.999, epsilon=1e-08, decay=0.0)\nmodel.compile(loss='binary_crossentropy', optimizer=adam, metrics=['accuracy'])\nmodel.summary()",
      "execution_count": 8,
      "outputs": [
        {
          "output_type": "stream",
          "text": "training CNN ...\n_________________________________________________________________\nLayer (type)                 Output Shape              Param #   \n=================================================================\nembedding_1 (Embedding)      (None, 168, 300)          30000000  \n_________________________________________________________________\nconv1d_1 (Conv1D)            (None, 168, 64)           134464    \n_________________________________________________________________\nmax_pooling1d_1 (MaxPooling1 (None, 84, 64)            0         \n_________________________________________________________________\nconv1d_2 (Conv1D)            (None, 84, 64)            28736     \n_________________________________________________________________\nglobal_max_pooling1d_1 (Glob (None, 64)                0         \n_________________________________________________________________\ndropout_1 (Dropout)          (None, 64)                0         \n_________________________________________________________________\ndense_1 (Dense)              (None, 32)                2080      \n_________________________________________________________________\ndense_2 (Dense)              (None, 6)                 198       \n=================================================================\nTotal params: 30,165,478\nTrainable params: 165,478\nNon-trainable params: 30,000,000\n_________________________________________________________________\n",
          "name": "stdout"
        }
      ]
    },
    {
      "metadata": {
        "_cell_guid": "bcc9c1ac-db54-4356-bce7-0ef39dbaf909",
        "_uuid": "169c30a270b00bf2088afc4268ada3042318adb3"
      },
      "cell_type": "markdown",
      "source": "Because of the multi-label loss, we are using k-hot encoding of the output and sigmoid activations. As a result, the loss is binary cross-entropy."
    },
    {
      "metadata": {
        "_cell_guid": "e439dcfb-c97c-4ae5-b6d4-e48b5c44b919",
        "_uuid": "c48a4db47861146bc4e90b3be6cd23106edb1255",
        "trusted": true
      },
      "cell_type": "code",
      "source": "#define callbacks\nearly_stopping = EarlyStopping(monitor='val_loss', min_delta=0.01, patience=4, verbose=1)\ncallbacks_list = [early_stopping]",
      "execution_count": 9,
      "outputs": []
    },
    {
      "metadata": {
        "_cell_guid": "38c67614-db6d-4d57-80d6-e46404bf4147",
        "_uuid": "c1a947e9bc4acefed432c40ec79fa318921278a2",
        "trusted": true
      },
      "cell_type": "code",
      "source": "#model training\nhist = model.fit(word_seq_train, y_train, batch_size=batch_size, epochs=num_epochs, callbacks=callbacks_list, validation_split=0.1, shuffle=True, verbose=2)",
      "execution_count": 10,
      "outputs": [
        {
          "output_type": "stream",
          "text": "Train on 143613 samples, validate on 15958 samples\nEpoch 1/8\n - 18s - loss: 0.0991 - acc: 0.9692 - val_loss: 0.0668 - val_acc: 0.9779\nEpoch 2/8\n - 15s - loss: 0.0658 - acc: 0.9787 - val_loss: 0.0648 - val_acc: 0.9788\nEpoch 3/8\n - 15s - loss: 0.0590 - acc: 0.9803 - val_loss: 0.0598 - val_acc: 0.9795\nEpoch 4/8\n - 14s - loss: 0.0536 - acc: 0.9815 - val_loss: 0.0582 - val_acc: 0.9799\nEpoch 5/8\n - 14s - loss: 0.0492 - acc: 0.9825 - val_loss: 0.0572 - val_acc: 0.9801\nEpoch 00005: early stopping\n",
          "name": "stdout"
        }
      ]
    },
    {
      "metadata": {
        "_cell_guid": "dfd0eaee-5f7b-4e6d-b809-dfe1316a30db",
        "_uuid": "b48d3b7623e2ce8e814ed246595c213f4321af64"
      },
      "cell_type": "markdown",
      "source": "Let's make predictions on the test data:"
    },
    {
      "metadata": {
        "_cell_guid": "5e2c397f-ae3f-4382-891c-89b172fe9e48",
        "_uuid": "25540b75e933d23b7e204ce34df09415392c8474",
        "trusted": true
      },
      "cell_type": "code",
      "source": "y_test = model.predict(word_seq_test)",
      "execution_count": 12,
      "outputs": []
    },
    {
      "metadata": {
        "_cell_guid": "16a97ecf-a5bb-46c5-814f-ab4483afe139",
        "_uuid": "cc103f87ffee97d82a6c18f9f7d360a739a8482c",
        "collapsed": true,
        "trusted": true
      },
      "cell_type": "code",
      "source": "#create a submission\nsubmission_df = pd.DataFrame(columns=['id'] + label_names)\nsubmission_df['id'] = test_df['id'].values \nsubmission_df[label_names] = y_test \nsubmission_df.to_csv(\"./cnn_fasttext_submission.csv\", index=False)",
      "execution_count": null,
      "outputs": []
    },
    {
      "metadata": {
        "_cell_guid": "34f04d6b-f37f-4917-9128-1a4d2ddb318a",
        "_uuid": "0739cf53451a26d1d8a7800b18c97ed706fb4b96"
      },
      "cell_type": "markdown",
      "source": "Looking at training and validation loss / accuracy figures below, we can see there is no sign of over-fitting."
    },
    {
      "metadata": {
        "_cell_guid": "89fdc75d-43eb-445c-8588-af0eed779ca3",
        "_uuid": "c70a282f66aa426654d9b02fec4a1f31f59286ab",
        "trusted": true
      },
      "cell_type": "code",
      "source": "#generate plots\nplt.figure()\nplt.plot(hist.history['loss'], lw=2.0, color='b', label='train')\nplt.plot(hist.history['val_loss'], lw=2.0, color='r', label='val')\nplt.title('CNN sentiment')\nplt.xlabel('Epochs')\nplt.ylabel('Cross-Entropy Loss')\nplt.legend(loc='upper right')\nplt.show()",
      "execution_count": 13,
      "outputs": [
        {
          "output_type": "display_data",
          "data": {
            "text/plain": "<Figure size 432x288 with 1 Axes>",
            "image/png": "[encoded data removed]"
          },
          "metadata": {}
        }
      ]
    },
    {
      "metadata": {
        "_cell_guid": "9f6fccbb-7888-41c1-99e5-eb1d95f19021",
        "_uuid": "dcf22acf97cd6321d449db27fde638f5d71d68dd",
        "trusted": true
      },
      "cell_type": "code",
      "source": "plt.figure()\nplt.plot(hist.history['acc'], lw=2.0, color='b', label='train')\nplt.plot(hist.history['val_acc'], lw=2.0, color='r', label='val')\nplt.title('CNN sentiment')\nplt.xlabel('Epochs')\nplt.ylabel('Accuracy')\nplt.legend(loc='upper left')\nplt.show()",
      "execution_count": 14,
      "outputs": [
        {
          "output_type": "display_data",
          "data": {
            "text/plain": "<Figure size 432x288 with 1 Axes>",
            "image/png": "[encoded data removed]"
          },
          "metadata": {}
        }
      ]
    },
    {
      "metadata": {
        "_cell_guid": "febbb068-edfb-4157-8bd8-38d3ae698e92",
        "_uuid": "1bf8b52609c0538f619ac4d6efea04b6491a4673"
      },
      "cell_type": "markdown",
      "source": "**References:**\n\n[1] P. Bojanowski, E. Grave, A. Joulin, T. Mikolov, \"Enriching Word Vectors with Subword Information\", arXiv, 2016  \n[2] FastText Embeddings: https://github.com/facebookresearch/fastText/blob/master/pretrained-vectors.md  \n[3] F. Chollet, \"Deep Learning with Python\", Manning Publications, 2017  "
    }
  ],
  "metadata": {
    "kernelspec": {
      "display_name": "Python 3",
      "language": "python",
      "name": "python3"
    },
    "language_info": {
      "name": "python",
      "version": "3.6.6",
      "mimetype": "text/x-python",
      "codemirror_mode": {
        "name": "ipython",
        "version": 3
      },
      "pygments_lexer": "ipython3",
      "nbconvert_exporter": "python",
      "file_extension": ".py"
    }
  },
  "nbformat": 4,
  "nbformat_minor": 1
}
